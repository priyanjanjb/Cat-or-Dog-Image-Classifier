{
  "nbformat": 4,
  "nbformat_minor": 0,
  "metadata": {
    "colab": {
      "provenance": [],
      "gpuType": "T4",
      "authorship_tag": "ABX9TyP6zIWQGw7LpHlgfGANNsKh",
      "include_colab_link": true
    },
    "kernelspec": {
      "name": "python3",
      "display_name": "Python 3"
    },
    "language_info": {
      "name": "python"
    },
    "accelerator": "GPU"
  },
  "cells": [
    {
      "cell_type": "markdown",
      "metadata": {
        "id": "view-in-github",
        "colab_type": "text"
      },
      "source": [
        "<a href=\"https://colab.research.google.com/github/priyanjanjb/Cat-or-Dog-Image-Classifier/blob/Classifier/CatOrDog.ipynb\" target=\"_parent\"><img src=\"https://colab.research.google.com/assets/colab-badge.svg\" alt=\"Open In Colab\"/></a>"
      ]
    },
    {
      "cell_type": "code",
      "execution_count": 5,
      "metadata": {
        "id": "Aug_2xPPA45J",
        "collapsed": true
      },
      "outputs": [],
      "source": [
        "!pip install tensorflow -q\n",
        "!pip install numpy -q\n",
        "!pip install matplotlib -q\n",
        "!pip install pandas -q\n",
        "\n",
        "!pip install opendatasets -q\n",
        "\n"
      ]
    },
    {
      "cell_type": "code",
      "source": [
        "import tensorflow as tf\n",
        "import numpy as np\n",
        "import matplotlib.pyplot as plt\n",
        "import time #calculate time\n",
        "\n",
        "import opendatasets as od"
      ],
      "metadata": {
        "id": "h5Y9yu6o1jaF"
      },
      "execution_count": 7,
      "outputs": []
    },
    {
      "cell_type": "code",
      "source": [
        "od.download('https://www.kaggle.com/datasets/dineshpiyasamara/cats-and-dogs-for-classification') #download dataset"
      ],
      "metadata": {
        "colab": {
          "base_uri": "https://localhost:8080/"
        },
        "id": "eILduPct2cQO",
        "outputId": "d656c387-8cdb-42f6-852c-b6890d400b85"
      },
      "execution_count": 8,
      "outputs": [
        {
          "output_type": "stream",
          "name": "stdout",
          "text": [
            "Please provide your Kaggle credentials to download this dataset. Learn more: http://bit.ly/kaggle-creds\n",
            "Your Kaggle username: priyanjanperera16\n",
            "Your Kaggle Key: ··········\n",
            "Dataset URL: https://www.kaggle.com/datasets/dineshpiyasamara/cats-and-dogs-for-classification\n",
            "Downloading cats-and-dogs-for-classification.zip to ./cats-and-dogs-for-classification\n"
          ]
        },
        {
          "output_type": "stream",
          "name": "stderr",
          "text": [
            "100%|██████████| 217M/217M [00:01<00:00, 133MB/s]\n"
          ]
        },
        {
          "output_type": "stream",
          "name": "stdout",
          "text": [
            "\n"
          ]
        }
      ]
    },
    {
      "cell_type": "code",
      "source": [
        "BATCH_SIZE = 32\n",
        "IMAGE_SIZE = (128,128) #height and width"
      ],
      "metadata": {
        "id": "sdwx6mIG3ESV"
      },
      "execution_count": 9,
      "outputs": []
    },
    {
      "cell_type": "code",
      "source": [
        "train_data_dir = \"/content/cats-and-dogs-for-classification/cats_dogs/train\"\n",
        "test_data_dir = \"/content/cats-and-dogs-for-classification/cats_dogs/test\""
      ],
      "metadata": {
        "id": "Y2CzQ_5A3kUu"
      },
      "execution_count": 10,
      "outputs": []
    },
    {
      "cell_type": "code",
      "source": [
        "train_data = tf.keras.utils.image_dataset_from_directory(train_data_dir,\n",
        "                                                         batch_size =BATCH_SIZE,\n",
        "                                                         inage_size = IMAGE_SIZE,\n",
        "                                                         subset = \"training\",\n",
        "                                                         validation_split = 0.1\n",
        "                                                         seed = 42)"
      ],
      "metadata": {
        "id": "PdQ3damV37Uf"
      },
      "execution_count": null,
      "outputs": []
    }
  ]
}